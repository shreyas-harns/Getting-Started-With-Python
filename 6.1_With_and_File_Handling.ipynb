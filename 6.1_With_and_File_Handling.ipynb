{
 "cells": [
  {
   "cell_type": "markdown",
   "metadata": {},
   "source": [
    "The with statement ensures that the file is properly closed when the block inside it is exited.\n",
    "Inside the with block, the variable file is used to read the content of the file.\n",
    "Once the block is exited, the file is automatically closed, even if an exception occurs."
   ]
  },
  {
   "cell_type": "markdown",
   "metadata": {},
   "source": [
    "The with statement is commonly used with file I/O, but it can also be used with other objects that support the context management protocol by implementing _ _enter_ _  _ _exit_ _ methods.\n",
    "\n",
    "Here's a more detailed breakdown:\n",
    "\n",
    "The _ _enter_ _ method is called when the block is entered, and it can set up resources or perform any necessary initialization.\n",
    "The block of code inside the with statement is executed.\n",
    "The _ _exit_ _ method is called when the block is exited, even if an exception occurs. It can perform cleanup operations and release resources."
   ]
  },
  {
   "cell_type": "code",
   "execution_count": 2,
   "metadata": {},
   "outputs": [
    {
     "name": "stdout",
     "output_type": "stream",
     "text": [
      "Entering the context\n",
      "Inside the context\n",
      "Exiting the context\n",
      "Outside the context\n"
     ]
    }
   ],
   "source": [
    "class MyContext:\n",
    "    def __enter__(self):\n",
    "        print(\"Entering the context\")\n",
    "        return self  # The object returned is assigned to the variable after 'as'\n",
    "\n",
    "    def __exit__(self, exc_type, exc_value, traceback):\n",
    "        print(\"Exiting the context\")\n",
    "        # Cleanup code goes here\n",
    "\n",
    "# Using the 'with' statement with a custom context\n",
    "with MyContext() as context_obj:\n",
    "    print(\"Inside the context\")\n",
    "    # Code block where 'context_obj' is accessible\n",
    "\n",
    "# Outside the 'with' block\n",
    "print(\"Outside the context\")"
   ]
  },
  {
   "cell_type": "markdown",
   "metadata": {},
   "source": [
    "This example demonstrates the flow of entering and exiting a context using the with statement. The __enter__ and __exit__ methods are executed accordingly."
   ]
  },
  {
   "cell_type": "code",
   "execution_count": null,
   "metadata": {},
   "outputs": [],
   "source": [
    "# Writing to a file\n",
    "file_path = \"6.x_Example.txt\""
   ]
  },
  {
   "cell_type": "markdown",
   "metadata": {},
   "source": [
    "The open function is used to open a file for writing (\"w\" mode).\n",
    "Data is written to the file using the write method."
   ]
  },
  {
   "cell_type": "code",
   "execution_count": 3,
   "metadata": {},
   "outputs": [
    {
     "name": "stdout",
     "output_type": "stream",
     "text": [
      "Data written to the file.\n"
     ]
    }
   ],
   "source": [
    "# Writing data to the file\n",
    "with open(file_path, \"w\") as file:\n",
    "    file.write(\"Hello, this is an example file.\\n\")\n",
    "    file.write(\"This is the second line.\\n\")\n",
    "\n",
    "print(\"Data written to the file.\")"
   ]
  },
  {
   "cell_type": "markdown",
   "metadata": {},
   "source": [
    "The file is then opened for reading (\"r\" mode), and the content is read using the read method."
   ]
  },
  {
   "cell_type": "code",
   "execution_count": 4,
   "metadata": {},
   "outputs": [
    {
     "name": "stdout",
     "output_type": "stream",
     "text": [
      "Content of the file:\n",
      "Hello, this is an example file.\n",
      "This is the second line.\n",
      "\n",
      "Reading line by line:\n",
      "Hello, this is an example file.\n",
      "This is the second line.\n"
     ]
    }
   ],
   "source": [
    "# Reading from a file\n",
    "with open(file_path, \"r\") as file:\n",
    "    # Read the entire content of the file\n",
    "    content = file.read()\n",
    "    print(\"Content of the file:\")\n",
    "    print(content)\n",
    "\n",
    "    # Go back to the beginning of the file for the next read\n",
    "    file.seek(0)\n",
    "\n",
    "    # Read line by line\n",
    "    print(\"Reading line by line:\")\n",
    "    for line in file:\n",
    "        print(line.strip())  # strip() removes the newline character\n"
   ]
  },
  {
   "cell_type": "markdown",
   "metadata": {},
   "source": [
    "The file is opened in append mode (\"a\"), and a new line is appended."
   ]
  },
  {
   "cell_type": "code",
   "execution_count": 5,
   "metadata": {},
   "outputs": [
    {
     "name": "stdout",
     "output_type": "stream",
     "text": [
      "Data appended to the file.\n"
     ]
    }
   ],
   "source": [
    "# Appending to a file\n",
    "with open(file_path, \"a\") as file:\n",
    "    file.write(\"This line is appended to the file.\\n\")\n",
    "\n",
    "print(\"Data appended to the file.\")\n",
    "\n"
   ]
  },
  {
   "cell_type": "markdown",
   "metadata": {},
   "source": [
    "Finally, the updated file is read and its content is printed.\n"
   ]
  },
  {
   "cell_type": "code",
   "execution_count": 6,
   "metadata": {},
   "outputs": [
    {
     "name": "stdout",
     "output_type": "stream",
     "text": [
      "Updated content of the file:\n",
      "Hello, this is an example file.\n",
      "This is the second line.\n",
      "This line is appended to the file.\n",
      "\n"
     ]
    }
   ],
   "source": [
    "# Reading the updated file\n",
    "with open(file_path, \"r\") as file:\n",
    "    updated_content = file.read()\n",
    "    print(\"Updated content of the file:\")\n",
    "    print(updated_content)"
   ]
  },
  {
   "cell_type": "markdown",
   "metadata": {},
   "source": [
    "Handling File Exceptions\n",
    "The first try block attempts to open a non-existent file for reading, and the except block catches the FileNotFoundError."
   ]
  },
  {
   "cell_type": "code",
   "execution_count": 7,
   "metadata": {},
   "outputs": [
    {
     "name": "stdout",
     "output_type": "stream",
     "text": [
      "Error: [Errno 2] No such file or directory: 'nonexistent_file.txt'\n",
      "The specified file does not exist.\n"
     ]
    }
   ],
   "source": [
    "# Attempt to open a non-existent file for reading\n",
    "try:\n",
    "    with open(\"nonexistent_file.txt\", \"r\") as file:\n",
    "        content = file.read()\n",
    "        print(\"Content of the file:\")\n",
    "        print(content)\n",
    "except FileNotFoundError as e:\n",
    "    print(f\"Error: {e}\")\n",
    "    print(\"The specified file does not exist.\")\n"
   ]
  },
  {
   "cell_type": "markdown",
   "metadata": {},
   "source": [
    "The second try block attempts to write to a file in a read-only directory, and the except block catches the PermissionError."
   ]
  },
  {
   "cell_type": "code",
   "execution_count": 8,
   "metadata": {},
   "outputs": [
    {
     "name": "stdout",
     "output_type": "stream",
     "text": [
      "Error: [Errno 1] Operation not permitted: '/usr/bin/test.txt'\n",
      "Permission error. Cannot write to the specified directory.\n"
     ]
    }
   ],
   "source": [
    "# Attempt to open a file for writing in a read-only directory\n",
    "try:\n",
    "    with open(\"/usr/bin/test.txt\", \"w\") as file:\n",
    "        file.write(\"Trying to write to a read-only directory.\")\n",
    "except PermissionError as e:\n",
    "    print(f\"Error: {e}\")\n",
    "    print(\"Permission error. Cannot write to the specified directory.\")"
   ]
  },
  {
   "cell_type": "markdown",
   "metadata": {},
   "source": [
    "The third try block attempts to write to a file opened in read mode, and the except block catches the more general IOError. Additionally, there's a catch-all except Exception block to handle unexpected errors."
   ]
  },
  {
   "cell_type": "code",
   "execution_count": 9,
   "metadata": {},
   "outputs": [
    {
     "name": "stdout",
     "output_type": "stream",
     "text": [
      "Error: not writable\n",
      "IOError. Cannot write to a file opened in read mode.\n"
     ]
    }
   ],
   "source": [
    "# Handling general file-related exceptions\n",
    "try:\n",
    "    with open(file_path, \"r\") as file:\n",
    "        # Attempting to write to a file opened in read mode\n",
    "        file.write(\"Trying to write to a file opened in read mode.\")\n",
    "except IOError as e:\n",
    "    print(f\"Error: {e}\")\n",
    "    print(\"IOError. Cannot write to a file opened in read mode.\")\n",
    "except Exception as e:\n",
    "    print(f\"Error: {e}\")\n",
    "    print(\"An unexpected error occurred.\")"
   ]
  }
 ],
 "metadata": {
  "kernelspec": {
   "display_name": "Python 3",
   "language": "python",
   "name": "python3"
  },
  "language_info": {
   "codemirror_mode": {
    "name": "ipython",
    "version": 3
   },
   "file_extension": ".py",
   "mimetype": "text/x-python",
   "name": "python",
   "nbconvert_exporter": "python",
   "pygments_lexer": "ipython3",
   "version": "3.11.6"
  }
 },
 "nbformat": 4,
 "nbformat_minor": 2
}
