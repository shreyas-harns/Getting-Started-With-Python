{
 "cells": [
  {
   "cell_type": "markdown",
   "metadata": {},
   "source": [
    "In Python, indentation is used to define the structure and scope of the code. Unlike many other programming languages that use braces {} to indicate blocks of code, Python uses indentation to represent code blocks. The standard convention is to use four spaces for each level of indentation.\n",
    "\n"
   ]
  },
  {
   "cell_type": "markdown",
   "metadata": {},
   "source": [
    "\n",
    "Here, to demonstrate indentation, we are using the if else statement. In Python, the if statement is used for conditional execution of code. It allows you to specify a block of code that should be executed if a certain condition is true. Optionally, you can include elif (short for \"else if\") and else clauses to handle additional conditions.\n",
    "\n"
   ]
  },
  {
   "cell_type": "code",
   "execution_count": 1,
   "metadata": {},
   "outputs": [
    {
     "name": "stdout",
     "output_type": "stream",
     "text": [
      "Positive number\n",
      "Five\n"
     ]
    }
   ],
   "source": [
    "#   Indentation\n",
    "x = 5\n",
    "\n",
    "if x > 0:\n",
    "    print(\"Positive number\")\n",
    "    if x % 2 == 0:\n",
    "        print(\"Even number\")\n",
    "    elif x == 5:\n",
    "        print ('Five')\n",
    "    elif x % 2 != 0:\n",
    "        print('Odd number')\n",
    "    else:\n",
    "        print(\"Odd number\")\n",
    "    \n",
    "else:\n",
    "    print(\"Non-positive number\")"
   ]
  },
  {
   "cell_type": "markdown",
   "metadata": {},
   "source": [
    "The elif (else if) clause is used to check another condition if the previous if or elif condition is false.\n",
    "The else clause is used to define what happens if none of the previous conditions is true.\n",
    "It's important to note the indentation level in Python. All code within a block (whether it's an if, elif, or else block) must be indented consistently."
   ]
  },
  {
   "cell_type": "markdown",
   "metadata": {},
   "source": [
    "In this example:\n",
    "\n",
    "The if, else, and print statements are indented to define the blocks of code.\n",
    "The level of indentation indicates the scope of each block.\n",
    "It's important to maintain consistent indentation throughout your code to ensure proper structure and to avoid errors. Incorrect indentation can lead to syntax errors or logical errors in your code."
   ]
  }
 ],
 "metadata": {
  "kernelspec": {
   "display_name": "Python 3",
   "language": "python",
   "name": "python3"
  },
  "language_info": {
   "codemirror_mode": {
    "name": "ipython",
    "version": 3
   },
   "file_extension": ".py",
   "mimetype": "text/x-python",
   "name": "python",
   "nbconvert_exporter": "python",
   "pygments_lexer": "ipython3",
   "version": "3.11.5"
  }
 },
 "nbformat": 4,
 "nbformat_minor": 2
}
