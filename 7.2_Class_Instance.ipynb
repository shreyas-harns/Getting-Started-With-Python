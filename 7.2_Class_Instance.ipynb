{
 "cells": [
  {
   "cell_type": "markdown",
   "metadata": {},
   "source": [
    "A Circle class is defined with an __ init __ method to initialize the attribute (radius) and two instance methods (calculate_area and calculate_circumference)."
   ]
  },
  {
   "cell_type": "code",
   "execution_count": 1,
   "metadata": {},
   "outputs": [],
   "source": [
    "# Defining a class with instance methods\n",
    "class Circle:\n",
    "    def __init__(self, radius):\n",
    "        self.radius = radius\n",
    "\n",
    "    def calculate_area(self):\n",
    "        area = 3.14 * self.radius**2\n",
    "        return area\n",
    "\n",
    "    def calculate_circumference(self):\n",
    "        circumference = 2 * 3.14 * self.radius\n",
    "        return circumference"
   ]
  },
  {
   "cell_type": "markdown",
   "metadata": {},
   "source": [
    "An instance of the Circle class (my_circle) is created with a specified radius."
   ]
  },
  {
   "cell_type": "code",
   "execution_count": 2,
   "metadata": {},
   "outputs": [],
   "source": [
    "# Creating an instance of the Circle class\n",
    "my_circle = Circle(radius=5)"
   ]
  },
  {
   "cell_type": "markdown",
   "metadata": {},
   "source": [
    "The attribute (radius) is accessed, and the instance methods (calculate_area and calculate_circumference) are called."
   ]
  },
  {
   "cell_type": "code",
   "execution_count": 3,
   "metadata": {},
   "outputs": [],
   "source": [
    "# Accessing attributes and calling instance methods\n",
    "circle_radius = my_circle.radius\n",
    "area_result = my_circle.calculate_area()\n",
    "circumference_result = my_circle.calculate_circumference()"
   ]
  },
  {
   "cell_type": "markdown",
   "metadata": {},
   "source": [
    "Print statements at the end display the results."
   ]
  },
  {
   "cell_type": "code",
   "execution_count": 4,
   "metadata": {},
   "outputs": [
    {
     "name": "stdout",
     "output_type": "stream",
     "text": [
      "Circle's radius: 5\n",
      "Circle's area: 78.5\n",
      "Circle's circumference: 31.400000000000002\n"
     ]
    }
   ],
   "source": [
    "# Printing results\n",
    "print(f\"Circle's radius: {circle_radius}\")\n",
    "print(f\"Circle's area: {area_result}\")\n",
    "print(f\"Circle's circumference: {circumference_result}\")"
   ]
  }
 ],
 "metadata": {
  "kernelspec": {
   "display_name": "Python 3",
   "language": "python",
   "name": "python3"
  },
  "language_info": {
   "codemirror_mode": {
    "name": "ipython",
    "version": 3
   },
   "file_extension": ".py",
   "mimetype": "text/x-python",
   "name": "python",
   "nbconvert_exporter": "python",
   "pygments_lexer": "ipython3",
   "version": "3.11.5"
  }
 },
 "nbformat": 4,
 "nbformat_minor": 2
}
