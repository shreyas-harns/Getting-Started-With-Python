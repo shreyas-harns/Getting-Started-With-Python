{
 "cells": [
  {
   "cell_type": "markdown",
   "metadata": {},
   "source": [
    "In Python, the while loop is used to repeatedly execute a block of code as long as a specified condition is true. The general syntax of the while loop is as follows:"
   ]
  },
  {
   "cell_type": "code",
   "execution_count": 1,
   "metadata": {},
   "outputs": [
    {
     "name": "stdout",
     "output_type": "stream",
     "text": [
      "Current count: 0\n",
      "Current count: 1\n",
      "Current count: 2\n",
      "Current count: 3\n",
      "Current count: 4\n"
     ]
    }
   ],
   "source": [
    "#   While Loop\n",
    "counter = 0\n",
    "\n",
    "while counter < 5:\n",
    "    print(f\"Current count: {counter}\")\n",
    "    counter += 1  # Increment the counter"
   ]
  },
  {
   "cell_type": "markdown",
   "metadata": {},
   "source": [
    "In this example, the while loop continues to execute as long as the counter is less than 5. The code within the loop prints the current value of the counter and increments it by 1 in each iteration.\n",
    "\n",
    "It's important to ensure that the condition in a while loop will eventually become false; otherwise, the loop will run indefinitely, leading to what is known as an \"infinite loop.\" In an infinite loop, the code inside the loop keeps executing, and the program won't move beyond the loop."
   ]
  },
  {
   "cell_type": "code",
   "execution_count": 2,
   "metadata": {},
   "outputs": [],
   "source": [
    "#   Infinite While Loop\n",
    "# while True:\n",
    "#     print(\"This is an infinite loop!\")"
   ]
  }
 ],
 "metadata": {
  "kernelspec": {
   "display_name": "Python 3",
   "language": "python",
   "name": "python3"
  },
  "language_info": {
   "codemirror_mode": {
    "name": "ipython",
    "version": 3
   },
   "file_extension": ".py",
   "mimetype": "text/x-python",
   "name": "python",
   "nbconvert_exporter": "python",
   "pygments_lexer": "ipython3",
   "version": "3.11.5"
  }
 },
 "nbformat": 4,
 "nbformat_minor": 2
}
