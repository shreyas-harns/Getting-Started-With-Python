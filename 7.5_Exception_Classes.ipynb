{
 "cells": [
  {
   "cell_type": "markdown",
   "metadata": {},
   "source": [
    "An exception class in Python is a user-defined class that inherits from the built-in Exception class or one of its subclasses. Exception classes are used to create custom exceptions, allowing developers to handle specific error conditions in their code. By defining custom exception classes, developers can raise and catch exceptions that are meaningful in the context of their applications."
   ]
  },
  {
   "cell_type": "markdown",
   "metadata": {},
   "source": [
    "A custom exception class MyCustomError is defined, inheriting from the built-in Exception class."
   ]
  },
  {
   "cell_type": "markdown",
   "metadata": {},
   "source": [
    "The __ init __ method is used to initialize the custom exception with an optional error message.\n"
   ]
  },
  {
   "cell_type": "code",
   "execution_count": 7,
   "metadata": {},
   "outputs": [],
   "source": [
    "# Defining a custom exception class\n",
    "class MyCustomError(Exception):\n",
    "    def __init__(self, message=\"This is a custom exception.\"):\n",
    "        self.message = message\n",
    "        super().__init__(self.message)"
   ]
  },
  {
   "cell_type": "markdown",
   "metadata": {},
   "source": [
    "This try block raises the custom exception MyCustomError with a specific error message, and the except block catches and handles it."
   ]
  },
  {
   "cell_type": "code",
   "execution_count": 9,
   "metadata": {},
   "outputs": [
    {
     "name": "stdout",
     "output_type": "stream",
     "text": [
      "Caught MyCustomError: This is a specific error message.\n",
      "Handling the custom exception.\n"
     ]
    }
   ],
   "source": [
    "# Example of using a custom exception class\n",
    "try:\n",
    "    raise MyCustomError(\"This is a specific error message.\")\n",
    "except MyCustomError as e:\n",
    "    print(f\"Caught MyCustomError: {e}\")\n",
    "    print(\"Handling the custom exception.\")\n"
   ]
  },
  {
   "cell_type": "markdown",
   "metadata": {},
   "source": [
    "This try block raises the custom exception with the default message, and the except block catches and handles it."
   ]
  },
  {
   "cell_type": "code",
   "execution_count": 10,
   "metadata": {},
   "outputs": [
    {
     "name": "stdout",
     "output_type": "stream",
     "text": [
      "Caught MyCustomError: This is a custom exception.\n",
      "Handling the custom exception with the default message.\n"
     ]
    }
   ],
   "source": [
    "# Example of using the custom exception class with the default message\n",
    "try:\n",
    "    raise MyCustomError()\n",
    "except MyCustomError as e:\n",
    "    print(f\"Caught MyCustomError: {e}\")\n",
    "    print(\"Handling the custom exception with the default message.\")"
   ]
  }
 ],
 "metadata": {
  "kernelspec": {
   "display_name": "Python 3",
   "language": "python",
   "name": "python3"
  },
  "language_info": {
   "codemirror_mode": {
    "name": "ipython",
    "version": 3
   },
   "file_extension": ".py",
   "mimetype": "text/x-python",
   "name": "python",
   "nbconvert_exporter": "python",
   "pygments_lexer": "ipython3",
   "version": "3.11.6"
  }
 },
 "nbformat": 4,
 "nbformat_minor": 2
}
