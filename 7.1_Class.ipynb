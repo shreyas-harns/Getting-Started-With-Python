{
 "cells": [
  {
   "cell_type": "markdown",
   "metadata": {},
   "source": [
    "A Dog class is defined with an __ init __ method to initialize attributes (name and age) and a bark method."
   ]
  },
  {
   "cell_type": "code",
   "execution_count": 9,
   "metadata": {},
   "outputs": [],
   "source": [
    "# Defining a simple class\n",
    "class Dog:\n",
    "    def __init__(self, name, age, breed):\n",
    "        self.name = name\n",
    "        self.age = age\n",
    "        self.breed=breed\n",
    "\n",
    "    def bark(self):\n",
    "        return f\"{self.name} says woof!\""
   ]
  },
  {
   "cell_type": "markdown",
   "metadata": {},
   "source": [
    "An instance of the Dog class (my_dog) is created."
   ]
  },
  {
   "cell_type": "code",
   "execution_count": 10,
   "metadata": {},
   "outputs": [],
   "source": [
    "# Creating an instance of the Dog class\n",
    "my_dog = Dog(name=\"Buddy\", age=3, breed='Beagle')"
   ]
  },
  {
   "cell_type": "markdown",
   "metadata": {},
   "source": [
    "The attributes (name and age) are accessed, and the bark method is called."
   ]
  },
  {
   "cell_type": "code",
   "execution_count": 11,
   "metadata": {},
   "outputs": [],
   "source": [
    "# Accessing attributes and calling methods\n",
    "dog_name = my_dog.name\n",
    "dog_age = my_dog.age\n",
    "dog_breed=my_dog.breed\n",
    "bark_result = my_dog.bark()"
   ]
  },
  {
   "cell_type": "markdown",
   "metadata": {},
   "source": [
    "Print statements at the end display the results."
   ]
  },
  {
   "cell_type": "code",
   "execution_count": 12,
   "metadata": {},
   "outputs": [
    {
     "name": "stdout",
     "output_type": "stream",
     "text": [
      "Dog's name: Buddy\n",
      "Dog's age: 3\n",
      "Dog's breed: Beagle\n",
      "Dog's bark: Buddy says woof!\n"
     ]
    }
   ],
   "source": [
    "# Printing results\n",
    "print(f\"Dog's name: {dog_name}\")\n",
    "print(f\"Dog's age: {dog_age}\")\n",
    "print(f\"Dog's breed: {dog_breed}\")\n",
    "print(f\"Dog's bark: {bark_result}\")"
   ]
  }
 ],
 "metadata": {
  "kernelspec": {
   "display_name": "Python 3",
   "language": "python",
   "name": "python3"
  },
  "language_info": {
   "codemirror_mode": {
    "name": "ipython",
    "version": 3
   },
   "file_extension": ".py",
   "mimetype": "text/x-python",
   "name": "python",
   "nbconvert_exporter": "python",
   "pygments_lexer": "ipython3",
   "version": "3.11.5"
  }
 },
 "nbformat": 4,
 "nbformat_minor": 2
}
