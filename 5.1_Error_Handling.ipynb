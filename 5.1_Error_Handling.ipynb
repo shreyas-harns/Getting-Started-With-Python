{
 "cells": [
  {
   "cell_type": "markdown",
   "metadata": {},
   "source": [
    "The first try block attempts to perform a division by zero, and the except block catches the ZeroDivisionError."
   ]
  },
  {
   "cell_type": "code",
   "execution_count": 44,
   "metadata": {},
   "outputs": [
    {
     "name": "stdout",
     "output_type": "stream",
     "text": [
      "Error: division by zero\n",
      "Cannot divide by zero!\n"
     ]
    }
   ],
   "source": [
    "# Example of handling a specific exception: ZeroDivisionError\n",
    "try:\n",
    "    result = 10 / 0\n",
    "except ZeroDivisionError as e:\n",
    "    print(f\"Error: {e}\")\n",
    "    print(\"Cannot divide by zero!\")\n"
   ]
  },
  {
   "cell_type": "markdown",
   "metadata": {},
   "source": [
    "The second try block attempts to convert a string to an integer, and the except block catches the more general Exception."
   ]
  },
  {
   "cell_type": "code",
   "execution_count": 45,
   "metadata": {},
   "outputs": [
    {
     "name": "stdout",
     "output_type": "stream",
     "text": [
      "Error: invalid literal for int() with base 10: 'abc'\n",
      "An error occurred while converting the string to an integer.\n"
     ]
    }
   ],
   "source": [
    "# Example of handling a more general exception: Exception\n",
    "try:\n",
    "    num = int(\"abc\")\n",
    "except Exception as e:\n",
    "    print(f\"Error: {e}\")\n",
    "    print(\"An error occurred while converting the string to an integer.\")\n"
   ]
  },
  {
   "cell_type": "markdown",
   "metadata": {},
   "source": [
    "The third try block handles both ValueError and ZeroDivisionError separately."
   ]
  },
  {
   "cell_type": "code",
   "execution_count": 46,
   "metadata": {},
   "outputs": [
    {
     "name": "stdout",
     "output_type": "stream",
     "text": [
      "ZeroDivisionError: division by zero\n",
      "Cannot divide by zero.\n"
     ]
    }
   ],
   "source": [
    "# Example of handling multiple exceptions\n",
    "try:\n",
    "    value = int(\"123\")\n",
    "    result = value / 0\n",
    "except ValueError as ve:\n",
    "    print(f\"ValueError: {ve}\")\n",
    "    print(\"An error occurred while converting the string to an integer.\")\n",
    "except ZeroDivisionError as zd:\n",
    "    print(f\"ZeroDivisionError: {zd}\")\n",
    "    print(\"Cannot divide by zero.\")\n"
   ]
  },
  {
   "cell_type": "markdown",
   "metadata": {},
   "source": [
    "The else block is used to execute code when the try block does not raise an exception."
   ]
  },
  {
   "cell_type": "code",
   "execution_count": 47,
   "metadata": {},
   "outputs": [
    {
     "name": "stdout",
     "output_type": "stream",
     "text": [
      "Result of division: 5.0\n"
     ]
    }
   ],
   "source": [
    "# Example of using the else block in exception handling\n",
    "try:\n",
    "    x = 10 / 2\n",
    "except ZeroDivisionError as e:\n",
    "    print(f\"Error: {e}\")\n",
    "    print(\"Cannot divide by zero.\")\n",
    "else:\n",
    "    print(f\"Result of division: {x}\")\n"
   ]
  },
  {
   "cell_type": "markdown",
   "metadata": {},
   "source": [
    "The finally block is used to execute code that should always run, whether an exception occurred or not."
   ]
  },
  {
   "cell_type": "code",
   "execution_count": 48,
   "metadata": {},
   "outputs": [
    {
     "name": "stdout",
     "output_type": "stream",
     "text": [
      "Error: division by zero\n",
      "Cannot divide by zero.\n",
      "This block will be executed no matter what.\n"
     ]
    }
   ],
   "source": [
    "# Example of using the finally block in exception handling\n",
    "try:\n",
    "    y = 5 / 0\n",
    "except ZeroDivisionError as e:\n",
    "    print(f\"Error: {e}\")\n",
    "    print(\"Cannot divide by zero.\")\n",
    "finally:\n",
    "    print(\"This block will be executed no matter what.\")"
   ]
  }
 ],
 "metadata": {
  "kernelspec": {
   "display_name": "Python 3",
   "language": "python",
   "name": "python3"
  },
  "language_info": {
   "codemirror_mode": {
    "name": "ipython",
    "version": 3
   },
   "file_extension": ".py",
   "mimetype": "text/x-python",
   "name": "python",
   "nbconvert_exporter": "python",
   "pygments_lexer": "ipython3",
   "version": "3.11.6"
  }
 },
 "nbformat": 4,
 "nbformat_minor": 2
}
