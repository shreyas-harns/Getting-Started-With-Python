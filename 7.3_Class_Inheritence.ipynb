{
 "cells": [
  {
   "cell_type": "markdown",
   "metadata": {},
   "source": [
    "This example demonstrates how inheritance allows subclasses to inherit attributes and behaviors \n",
    "from a base class while allowing for specialization through method overrides.\n",
    "\n",
    "A base class Animal is defined with an __ init __ method and a make_sound method."
   ]
  },
  {
   "cell_type": "code",
   "execution_count": 31,
   "metadata": {},
   "outputs": [],
   "source": [
    "class Animal:\n",
    "    def __init__(self, name):\n",
    "        self.name = name\n",
    "\n",
    "    def make_sound(self):\n",
    "        print(f\"{self.name} makes a generic sound.\")"
   ]
  },
  {
   "cell_type": "markdown",
   "metadata": {},
   "source": [
    "Two subclasses (Dog and Cat) are defined, each inheriting from the Animal base class. They provide their own implementation of the make_sound method."
   ]
  },
  {
   "cell_type": "code",
   "execution_count": 32,
   "metadata": {},
   "outputs": [],
   "source": [
    "class Dog(Animal):\n",
    "    def __init__(self, name, breed):\n",
    "        super().__init__(name)  # Calling the __init__ method of the parent class\n",
    "        self.breed = breed\n",
    "\n",
    "    def make_sound(self):\n",
    "        super().make_sound()  # Calling the make_sound method of the parent class\n",
    "        print(\"Woof!\")"
   ]
  },
  {
   "cell_type": "code",
   "execution_count": 33,
   "metadata": {},
   "outputs": [],
   "source": [
    "# Defining another subclass (Cat) inheriting from the base class (Animal)\n",
    "class Cat(Animal):\n",
    "    def __init__(self, name, color):\n",
    "        super().__init__(name)  # Call the __init__ method of the parent class\n",
    "        self.color = color\n",
    "\n",
    "    def make_sound(self):\n",
    "        super().make_sound()  # Calling the make_sound method of the parent class\n",
    "        print(\"Meow!\")"
   ]
  },
  {
   "cell_type": "markdown",
   "metadata": {},
   "source": [
    "Instances of the subclasses (my_dog and my_cat) are created."
   ]
  },
  {
   "cell_type": "code",
   "execution_count": 34,
   "metadata": {},
   "outputs": [],
   "source": [
    "# Creating instances of the subclasses\n",
    "my_dog = Dog(name=\"Buddy\", breed=\"Labrador\")\n",
    "my_cat = Cat(name=\"Whiskers\", color=\"Gray\")\n"
   ]
  },
  {
   "cell_type": "markdown",
   "metadata": {},
   "source": [
    "Attributes (name) are accessed, and the overridden methods (make_sound) are called."
   ]
  },
  {
   "cell_type": "code",
   "execution_count": 35,
   "metadata": {},
   "outputs": [
    {
     "name": "stdout",
     "output_type": "stream",
     "text": [
      "Buddy makes a generic sound.\n",
      "Woof!\n",
      "Whiskers makes a generic sound.\n",
      "Meow!\n"
     ]
    }
   ],
   "source": [
    "# Accessing attributes and calling methods\n",
    "dog_name = my_dog.name\n",
    "dog_breed = my_dog.breed\n",
    "dog_sound = my_dog.make_sound()\n",
    "\n",
    "cat_name = my_cat.name\n",
    "cat_color = my_cat.color\n",
    "cat_sound = my_cat.make_sound()"
   ]
  },
  {
   "cell_type": "markdown",
   "metadata": {},
   "source": [
    "Print statements at the end display the results."
   ]
  },
  {
   "cell_type": "code",
   "execution_count": 36,
   "metadata": {},
   "outputs": [
    {
     "name": "stdout",
     "output_type": "stream",
     "text": [
      "Dog's name: Buddy\n",
      "Dog's breed: Labrador\n",
      "Cat's name: Whiskers\n",
      "Cat's color: Gray\n"
     ]
    }
   ],
   "source": [
    "# Printing results\n",
    "print(f\"Dog's name: {dog_name}\")\n",
    "print(f\"Dog's breed: {dog_breed}\")\n",
    "\n",
    "print(f\"Cat's name: {cat_name}\")\n",
    "print(f\"Cat's color: {cat_color}\")"
   ]
  }
 ],
 "metadata": {
  "kernelspec": {
   "display_name": "Python 3",
   "language": "python",
   "name": "python3"
  },
  "language_info": {
   "codemirror_mode": {
    "name": "ipython",
    "version": 3
   },
   "file_extension": ".py",
   "mimetype": "text/x-python",
   "name": "python",
   "nbconvert_exporter": "python",
   "pygments_lexer": "ipython3",
   "version": "3.11.6"
  }
 },
 "nbformat": 4,
 "nbformat_minor": 2
}
