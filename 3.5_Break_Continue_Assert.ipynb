{
 "cells": [
  {
   "cell_type": "code",
   "execution_count": 9,
   "metadata": {},
   "outputs": [
    {
     "name": "stdout",
     "output_type": "stream",
     "text": [
      "Current value of i: 0\n",
      "Current value of i: 1\n",
      "Current value of i: 2\n",
      "Current value of i: 3\n",
      "Current value of i: 4\n",
      "Encountered 5, breaking out of the loop.\n"
     ]
    }
   ],
   "source": [
    "# Using break in a loop\n",
    "for i in range(10):\n",
    "    if i == 5:\n",
    "        print(\"Encountered 5, breaking out of the loop.\")\n",
    "        break\n",
    "    print(f\"Current value of i: {i}\")\n"
   ]
  },
  {
   "cell_type": "markdown",
   "metadata": {},
   "source": [
    "The break statement is used to exit the loop when i is equal to 5."
   ]
  },
  {
   "cell_type": "code",
   "execution_count": 10,
   "metadata": {},
   "outputs": [
    {
     "name": "stdout",
     "output_type": "stream",
     "text": [
      "Skipping even number: 0\n",
      "Processing odd number: 1\n",
      "Skipping even number: 2\n",
      "Processing odd number: 3\n",
      "Skipping even number: 4\n",
      "Processing odd number: 5\n",
      "Skipping even number: 6\n",
      "Processing odd number: 7\n",
      "Skipping even number: 8\n",
      "Processing odd number: 9\n"
     ]
    }
   ],
   "source": [
    "# Using continue in a loop\n",
    "for j in range(10):\n",
    "    if j % 2 == 0:\n",
    "        print(f\"Skipping even number: {j}\")\n",
    "        continue\n",
    "    print(f\"Processing odd number: {j}\")"
   ]
  },
  {
   "cell_type": "markdown",
   "metadata": {},
   "source": [
    "The continue statement is used to skip even numbers and continue to the next iteration."
   ]
  },
  {
   "cell_type": "code",
   "execution_count": 11,
   "metadata": {},
   "outputs": [
    {
     "name": "stdout",
     "output_type": "stream",
     "text": [
      "Assertion passed!\n"
     ]
    }
   ],
   "source": [
    "# Using assert to check a condition\n",
    "x = 10\n",
    "assert x > 0, \"x should be greater than 0\"\n",
    "print(\"Assertion passed!\")"
   ]
  },
  {
   "cell_type": "code",
   "execution_count": 12,
   "metadata": {},
   "outputs": [
    {
     "ename": "AssertionError",
     "evalue": "y should be greater than 0",
     "output_type": "error",
     "traceback": [
      "\u001b[0;31m---------------------------------------------------------------------------\u001b[0m",
      "\u001b[0;31mAssertionError\u001b[0m                            Traceback (most recent call last)",
      "\u001b[1;32m/Users/shreyasjoshi/Documents/Python Project/Presentation/3.5_Break_Continue_Assert.ipynb Cell 6\u001b[0m line \u001b[0;36m3\n\u001b[1;32m      <a href='vscode-notebook-cell:/Users/shreyasjoshi/Documents/Python%20Project/Presentation/3.5_Break_Continue_Assert.ipynb#W5sZmlsZQ%3D%3D?line=0'>1</a>\u001b[0m \u001b[39m# Using assert with a failed condition\u001b[39;00m\n\u001b[1;32m      <a href='vscode-notebook-cell:/Users/shreyasjoshi/Documents/Python%20Project/Presentation/3.5_Break_Continue_Assert.ipynb#W5sZmlsZQ%3D%3D?line=1'>2</a>\u001b[0m y \u001b[39m=\u001b[39m \u001b[39m-\u001b[39m\u001b[39m5\u001b[39m\n\u001b[0;32m----> <a href='vscode-notebook-cell:/Users/shreyasjoshi/Documents/Python%20Project/Presentation/3.5_Break_Continue_Assert.ipynb#W5sZmlsZQ%3D%3D?line=2'>3</a>\u001b[0m \u001b[39massert\u001b[39;00m y \u001b[39m>\u001b[39m \u001b[39m0\u001b[39m, \u001b[39m\"\u001b[39m\u001b[39my should be greater than 0\u001b[39m\u001b[39m\"\u001b[39m\n\u001b[1;32m      <a href='vscode-notebook-cell:/Users/shreyasjoshi/Documents/Python%20Project/Presentation/3.5_Break_Continue_Assert.ipynb#W5sZmlsZQ%3D%3D?line=3'>4</a>\u001b[0m \u001b[39mprint\u001b[39m(\u001b[39m\"\u001b[39m\u001b[39mThis line won\u001b[39m\u001b[39m'\u001b[39m\u001b[39mt be reached due to the failed assertion.\u001b[39m\u001b[39m\"\u001b[39m)\n",
      "\u001b[0;31mAssertionError\u001b[0m: y should be greater than 0"
     ]
    }
   ],
   "source": [
    "# Using assert with a failed condition\n",
    "y = -5\n",
    "assert y > 0, \"y should be greater than 0\"\n",
    "print(\"This line won't be reached due to the failed assertion.\")"
   ]
  },
  {
   "cell_type": "markdown",
   "metadata": {},
   "source": [
    "The assert statement is used to check a condition (x > 0). If the condition is False, an AssertionError is raised with the specified error message."
   ]
  }
 ],
 "metadata": {
  "kernelspec": {
   "display_name": "Python 3",
   "language": "python",
   "name": "python3"
  },
  "language_info": {
   "codemirror_mode": {
    "name": "ipython",
    "version": 3
   },
   "file_extension": ".py",
   "mimetype": "text/x-python",
   "name": "python",
   "nbconvert_exporter": "python",
   "pygments_lexer": "ipython3",
   "version": "3.11.5"
  }
 },
 "nbformat": 4,
 "nbformat_minor": 2
}
