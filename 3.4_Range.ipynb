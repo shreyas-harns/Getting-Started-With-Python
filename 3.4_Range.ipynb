{
 "cells": [
  {
   "cell_type": "code",
   "execution_count": 6,
   "metadata": {},
   "outputs": [
    {
     "name": "stdout",
     "output_type": "stream",
     "text": [
      "Current value of i: 0\n",
      "Current value of i: 1\n",
      "Current value of i: 2\n",
      "Current value of i: 3\n",
      "Current value of i: 4\n"
     ]
    }
   ],
   "source": [
    "# Using range to generate a sequence of numbers\n",
    "# A simple loop from 0 to 4.\n",
    "for i in range(5):\n",
    "    print(f\"Current value of i: {i}\")"
   ]
  },
  {
   "cell_type": "code",
   "execution_count": 7,
   "metadata": {},
   "outputs": [
    {
     "name": "stdout",
     "output_type": "stream",
     "text": [
      "Current value of j: 2\n",
      "Current value of j: 4\n",
      "Current value of j: 6\n",
      "Current value of j: 8\n"
     ]
    }
   ],
   "source": [
    "# Using range with start, stop, and step\n",
    "# A loop with a specified start (2), stop (10), and step (2).\n",
    "for j in range(2, 10, 2):\n",
    "    print(f\"Current value of j: {j}\")"
   ]
  },
  {
   "cell_type": "code",
   "execution_count": 8,
   "metadata": {},
   "outputs": [
    {
     "name": "stdout",
     "output_type": "stream",
     "text": [
      "List of numbers: [1, 2, 3, 4, 5]\n"
     ]
    }
   ],
   "source": [
    "# Using range to create a list of numbers\n",
    "# Creating a list of numbers from 1 to 5 using range and converting it to a list.\n",
    "numbers_list = list(range(1, 6))\n",
    "print(f\"List of numbers: {numbers_list}\")"
   ]
  },
  {
   "cell_type": "code",
   "execution_count": 9,
   "metadata": {},
   "outputs": [
    {
     "name": "stdout",
     "output_type": "stream",
     "text": [
      "Countdown: 5\n",
      "Countdown: 4\n",
      "Countdown: 3\n",
      "Countdown: 2\n",
      "Countdown: 1\n"
     ]
    }
   ],
   "source": [
    "# Using range in reverse\n",
    "# A loop in reverse, counting down from 5 to 1.\n",
    "for k in range(5, 0, -1):\n",
    "    print(f\"Countdown: {k}\")"
   ]
  },
  {
   "cell_type": "code",
   "execution_count": 10,
   "metadata": {},
   "outputs": [
    {
     "name": "stdout",
     "output_type": "stream",
     "text": [
      "Index: 0, Fruit: apple\n",
      "Index: 1, Fruit: banana\n",
      "Index: 2, Fruit: orange\n"
     ]
    }
   ],
   "source": [
    "# Using range to iterate over indices of a list\n",
    "# Using range to iterate over the indices of a list and accessing elements from the list.\n",
    "fruits = [\"apple\", \"banana\", \"orange\"]\n",
    "for index in range(len(fruits)):\n",
    "    print(f\"Index: {index}, Fruit: {fruits[index]}\")"
   ]
  }
 ],
 "metadata": {
  "kernelspec": {
   "display_name": "Python 3",
   "language": "python",
   "name": "python3"
  },
  "language_info": {
   "codemirror_mode": {
    "name": "ipython",
    "version": 3
   },
   "file_extension": ".py",
   "mimetype": "text/x-python",
   "name": "python",
   "nbconvert_exporter": "python",
   "pygments_lexer": "ipython3",
   "version": "3.11.6"
  }
 },
 "nbformat": 4,
 "nbformat_minor": 2
}
