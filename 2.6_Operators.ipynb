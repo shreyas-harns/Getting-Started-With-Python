{
 "cells": [
  {
   "cell_type": "code",
   "execution_count": 27,
   "metadata": {},
   "outputs": [
    {
     "name": "stdout",
     "output_type": "stream",
     "text": [
      "Addition: 13\n",
      "Subtraction: 7\n",
      "Multiplication: 30\n",
      "Division: 3.3333333333333335\n",
      "Floor Division: 3\n",
      "Modulus: 1\n",
      "Exponentiation: 1000\n"
     ]
    }
   ],
   "source": [
    "#   Arithmetic operators (+, -, *, /, //, %, **).\n",
    "a = 10\n",
    "b = 3\n",
    "addition = a + b\n",
    "subtraction = a - b\n",
    "multiplication = a * b\n",
    "division = a / b\n",
    "floor_division = a // b\n",
    "modulus = a % b\n",
    "exponentiation = a ** b\n",
    "\n",
    "# Print the results\n",
    "print(f\"Addition: {addition}\")\n",
    "print(f\"Subtraction: {subtraction}\")\n",
    "print(f\"Multiplication: {multiplication}\")\n",
    "print(f\"Division: {division}\")\n",
    "print(f\"Floor Division: {floor_division}\")\n",
    "print(f\"Modulus: {modulus}\")\n",
    "print(f\"Exponentiation: {exponentiation}\")"
   ]
  },
  {
   "cell_type": "code",
   "execution_count": 28,
   "metadata": {},
   "outputs": [
    {
     "name": "stdout",
     "output_type": "stream",
     "text": [
      "Equals: False\n",
      "Not Equals: True\n",
      "Greater Than: False\n",
      "Less Than: True\n",
      "Greater Than or Equal: False\n",
      "Less Than or Equal: True\n"
     ]
    }
   ],
   "source": [
    "#   Comparison operators (==, !=, >, <, >=, <=).\n",
    "x = 5\n",
    "y = 10\n",
    "equals = x == y\n",
    "not_equals = x != y\n",
    "greater_than = x > y\n",
    "less_than = x < y\n",
    "greater_than_or_equal = x >= y\n",
    "less_than_or_equal = x <= y\n",
    "\n",
    "# Print the results\n",
    "print(f\"Equals: {equals}\")\n",
    "print(f\"Not Equals: {not_equals}\")\n",
    "print(f\"Greater Than: {greater_than}\")\n",
    "print(f\"Less Than: {less_than}\")\n",
    "print(f\"Greater Than or Equal: {greater_than_or_equal}\")\n",
    "print(f\"Less Than or Equal: {less_than_or_equal}\")"
   ]
  },
  {
   "cell_type": "code",
   "execution_count": 29,
   "metadata": {},
   "outputs": [
    {
     "name": "stdout",
     "output_type": "stream",
     "text": [
      "Logical AND: False\n",
      "Logical OR: True\n",
      "Logical NOT: False\n"
     ]
    }
   ],
   "source": [
    "#  Logical operators (and, or, not).\n",
    "a = True\n",
    "b = False\n",
    "logical_and = a and b\n",
    "logical_or = a or b\n",
    "logical_not = not a\n",
    "\n",
    "# Print the results\n",
    "print(f\"Logical AND: {logical_and}\")\n",
    "print(f\"Logical OR: {logical_or}\")\n",
    "print(f\"Logical NOT: {logical_not}\")"
   ]
  },
  {
   "cell_type": "code",
   "execution_count": 30,
   "metadata": {},
   "outputs": [
    {
     "name": "stdout",
     "output_type": "stream",
     "text": [
      "Assignment Operator: 8\n",
      "Is a the same object as b? False\n",
      "Is a not the same object as b? True\n",
      "Is a the same object as c? True\n"
     ]
    }
   ],
   "source": [
    "#   Assignment operators (=, +=).\n",
    "x = 5\n",
    "x += 3  # Equivalent to x = x + 3\n",
    "\n",
    "# Print the result\n",
    "print(f\"Assignment Operator: {x}\")\n",
    "# End of Code Block\n",
    "\n",
    "# Code Cell: Identity Operators\n",
    "a = [1, 2, 3]\n",
    "b = [1, 2, 3]\n",
    "c = a\n",
    "\n",
    "# Print the results\n",
    "print(f\"Is a the same object as b? {a is b}\")\n",
    "print(f\"Is a not the same object as b? {a is not b}\")\n",
    "print(f\"Is a the same object as c? {a is c}\")"
   ]
  },
  {
   "cell_type": "code",
   "execution_count": 31,
   "metadata": {},
   "outputs": [
    {
     "name": "stdout",
     "output_type": "stream",
     "text": [
      "Is a the same object as b? False\n",
      "Is a not the same object as b? True\n",
      "Is a the same object as c? True\n"
     ]
    }
   ],
   "source": [
    "#   Identity operators (is, is not).\n",
    "a = [1, 2, 3]\n",
    "b = [1, 2, 3]\n",
    "c = a\n",
    "\n",
    "# Print the results\n",
    "print(f\"Is a the same object as b? {a is b}\")\n",
    "print(f\"Is a not the same object as b? {a is not b}\")\n",
    "print(f\"Is a the same object as c? {a is c}\")"
   ]
  },
  {
   "cell_type": "code",
   "execution_count": 32,
   "metadata": {},
   "outputs": [
    {
     "name": "stdout",
     "output_type": "stream",
     "text": [
      "Is 3 in myList? True\n",
      "Is 6 not in myList? True\n"
     ]
    }
   ],
   "source": [
    "#   Membership operators (in, not in).\n",
    "myList = [1, 2, 3, 4, 5]\n",
    "\n",
    "# Print the results\n",
    "print(f\"Is 3 in myList? {3 in myList}\")\n",
    "print(f\"Is 6 not in myList? {6 not in myList}\")"
   ]
  }
 ],
 "metadata": {
  "kernelspec": {
   "display_name": "Python 3",
   "language": "python",
   "name": "python3"
  },
  "language_info": {
   "codemirror_mode": {
    "name": "ipython",
    "version": 3
   },
   "file_extension": ".py",
   "mimetype": "text/x-python",
   "name": "python",
   "nbconvert_exporter": "python",
   "pygments_lexer": "ipython3",
   "version": "3.11.5"
  }
 },
 "nbformat": 4,
 "nbformat_minor": 2
}
