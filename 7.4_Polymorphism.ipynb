{
 "cells": [
  {
   "cell_type": "markdown",
   "metadata": {},
   "source": [
    "This example demonstrates how polymorphism allows different objects to be treated uniformly by using the same method name (calculate_area), even though the actual implementation varies for each object.\n",
    "\n",
    "A base class Shape is defined with a method (calculate_area) that will be overridden in the subclasses."
   ]
  },
  {
   "cell_type": "code",
   "execution_count": 1,
   "metadata": {},
   "outputs": [],
   "source": [
    "# Defining a base class\n",
    "class Shape:\n",
    "    def calculate_area(self):\n",
    "        pass  # This method will be overridden in the subclasses\n"
   ]
  },
  {
   "cell_type": "markdown",
   "metadata": {},
   "source": [
    "Two subclasses (Circle and Square) are defined, each inheriting from the Shape base class. They provide their own implementation of the calculate_area method."
   ]
  },
  {
   "cell_type": "code",
   "execution_count": 2,
   "metadata": {},
   "outputs": [],
   "source": [
    "# Defining two subclasses (Circle and Square) inheriting from the base class (Shape)\n",
    "class Circle(Shape):\n",
    "    def __init__(self, radius):\n",
    "        self.radius = radius\n",
    "\n",
    "    def calculate_area(self):\n",
    "        area = 3.14 * self.radius**2\n",
    "        return area\n",
    "\n",
    "class Square(Shape):\n",
    "    def __init__(self, side_length):\n",
    "        self.side_length = side_length\n",
    "\n",
    "    def calculate_area(self):\n",
    "        area = self.side_length**2\n",
    "        return area\n"
   ]
  },
  {
   "cell_type": "markdown",
   "metadata": {},
   "source": [
    "Instances of the subclasses (my_circle and my_square) are created."
   ]
  },
  {
   "cell_type": "code",
   "execution_count": 3,
   "metadata": {},
   "outputs": [],
   "source": [
    "# Creating instances of the subclasses\n",
    "my_circle = Circle(radius=5)\n",
    "my_square = Square(side_length=4)\n"
   ]
  },
  {
   "cell_type": "markdown",
   "metadata": {},
   "source": [
    "The same method (calculate_area) is called on different objects, showcasing polymorphism."
   ]
  },
  {
   "cell_type": "code",
   "execution_count": 4,
   "metadata": {},
   "outputs": [],
   "source": [
    "# Calling the same method on different objects (polymorphism)\n",
    "circle_area = my_circle.calculate_area()\n",
    "square_area = my_square.calculate_area()"
   ]
  },
  {
   "cell_type": "markdown",
   "metadata": {},
   "source": [
    "Print statements at the end display the results."
   ]
  },
  {
   "cell_type": "code",
   "execution_count": 5,
   "metadata": {},
   "outputs": [
    {
     "name": "stdout",
     "output_type": "stream",
     "text": [
      "Circle's area: 78.5\n",
      "Square's area: 16\n"
     ]
    }
   ],
   "source": [
    "# Printing results\n",
    "print(f\"Circle's area: {circle_area}\")\n",
    "print(f\"Square's area: {square_area}\")"
   ]
  }
 ],
 "metadata": {
  "kernelspec": {
   "display_name": "Python 3",
   "language": "python",
   "name": "python3"
  },
  "language_info": {
   "codemirror_mode": {
    "name": "ipython",
    "version": 3
   },
   "file_extension": ".py",
   "mimetype": "text/x-python",
   "name": "python",
   "nbconvert_exporter": "python",
   "pygments_lexer": "ipython3",
   "version": "3.11.5"
  }
 },
 "nbformat": 4,
 "nbformat_minor": 2
}
