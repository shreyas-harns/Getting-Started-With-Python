{
 "cells": [
  {
   "cell_type": "markdown",
   "metadata": {},
   "source": [
    "A custom module named 4.x_Module.py is created with a greet function.\n",
    "The %run magic command is used to run the custom module in the Jupyter Notebook."
   ]
  },
  {
   "cell_type": "code",
   "execution_count": 6,
   "metadata": {},
   "outputs": [],
   "source": [
    "# Importing a custom module\n",
    "%run 4.x_Module.py"
   ]
  },
  {
   "cell_type": "markdown",
   "metadata": {},
   "source": [
    "The custom greet function is called and the result is printed.\n"
   ]
  },
  {
   "cell_type": "code",
   "execution_count": 7,
   "metadata": {},
   "outputs": [
    {
     "name": "stdout",
     "output_type": "stream",
     "text": [
      "Hello, Alice!\n"
     ]
    }
   ],
   "source": [
    "# Using the greet function from the custom module\n",
    "result_greet = greet(\"Alice\")\n",
    "print(result_greet)"
   ]
  },
  {
   "cell_type": "markdown",
   "metadata": {},
   "source": [
    "Standard modules (math, datetime, and random) are imported and used for various tasks."
   ]
  },
  {
   "cell_type": "code",
   "execution_count": 8,
   "metadata": {},
   "outputs": [
    {
     "name": "stdout",
     "output_type": "stream",
     "text": [
      "Square root of 25: 5.0\n"
     ]
    }
   ],
   "source": [
    "# Using a standard module: math\n",
    "import math\n",
    "\n",
    "# Calculating the square root using the math module\n",
    "number = 25\n",
    "sqrt_result = math.sqrt(number)\n",
    "print(f\"Square root of {number}: {sqrt_result}\")"
   ]
  },
  {
   "cell_type": "code",
   "execution_count": 9,
   "metadata": {},
   "outputs": [
    {
     "name": "stdout",
     "output_type": "stream",
     "text": [
      "Current date and time: 2023-11-27 12:20:14.296203\n"
     ]
    }
   ],
   "source": [
    "# Using a standard module: datetime\n",
    "import datetime\n",
    "\n",
    "# Getting the current date and time using the datetime module\n",
    "current_time = datetime.datetime.now()\n",
    "print(f\"Current date and time: {current_time}\")"
   ]
  },
  {
   "cell_type": "code",
   "execution_count": 10,
   "metadata": {},
   "outputs": [
    {
     "name": "stdout",
     "output_type": "stream",
     "text": [
      "Random number between 1 and 10: 10\n"
     ]
    }
   ],
   "source": [
    "# Using a standard module: random\n",
    "import random\n",
    "\n",
    "# Generating a random number between 1 and 10 using the random module\n",
    "random_number = random.randint(1, 10)\n",
    "print(f\"Random number between 1 and 10: {random_number}\")"
   ]
  }
 ],
 "metadata": {
  "kernelspec": {
   "display_name": "Python 3",
   "language": "python",
   "name": "python3"
  },
  "language_info": {
   "codemirror_mode": {
    "name": "ipython",
    "version": 3
   },
   "file_extension": ".py",
   "mimetype": "text/x-python",
   "name": "python",
   "nbconvert_exporter": "python",
   "pygments_lexer": "ipython3",
   "version": "3.11.6"
  }
 },
 "nbformat": 4,
 "nbformat_minor": 2
}
