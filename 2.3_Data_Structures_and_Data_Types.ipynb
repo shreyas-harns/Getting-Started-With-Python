{
 "cells": [
  {
   "cell_type": "markdown",
   "metadata": {},
   "source": [
    "Data Structures and Data Types\n"
   ]
  },
  {
   "cell_type": "code",
   "execution_count": 175,
   "metadata": {},
   "outputs": [],
   "source": [
    "#   Variables and basic data types (string, int, float, bool).\n",
    "name = \"John\"           #   String\n",
    "age = 25                #   Integer\n",
    "height = 5.9            #   Float\n",
    "is_student = False      #   Boolean"
   ]
  },
  {
   "cell_type": "code",
   "execution_count": 176,
   "metadata": {},
   "outputs": [
    {
     "name": "stdout",
     "output_type": "stream",
     "text": [
      "[1, 2, 3, 4, 5]\n"
     ]
    }
   ],
   "source": [
    "#   Lists: An ordered collection.\n",
    "fruits = [\"apple\", \"banana\", \"orange\"]\n",
    "numbers = [1, 2, 3, 4, 5]\n",
    "print(numbers)"
   ]
  },
  {
   "cell_type": "code",
   "execution_count": 177,
   "metadata": {},
   "outputs": [
    {
     "name": "stdout",
     "output_type": "stream",
     "text": [
      "[900, 2, 3, 4, 5]\n"
     ]
    }
   ],
   "source": [
    "numbers[0]=900\n",
    "print(numbers)"
   ]
  },
  {
   "cell_type": "code",
   "execution_count": 178,
   "metadata": {},
   "outputs": [
    {
     "name": "stdout",
     "output_type": "stream",
     "text": [
      "Alice\n"
     ]
    }
   ],
   "source": [
    "#   Dictionaries: A collection of key-value pairs.\n",
    "person = {\"name\": \"Alice\", \"age\": 30, \"city\": \"New York\"}\n",
    "print(person['name'])"
   ]
  },
  {
   "cell_type": "code",
   "execution_count": 179,
   "metadata": {},
   "outputs": [
    {
     "name": "stdout",
     "output_type": "stream",
     "text": [
      "10\n"
     ]
    }
   ],
   "source": [
    "#   Tuples: Immutable ordered sequences.\n",
    "coordinates = (10, 20)\n",
    "print(coordinates[0])"
   ]
  },
  {
   "cell_type": "code",
   "execution_count": 180,
   "metadata": {},
   "outputs": [],
   "source": [
    "#   Showing immutablility of tuples\n",
    "# coordinates[0]=200\n",
    "# print(coordinates)"
   ]
  },
  {
   "cell_type": "code",
   "execution_count": 181,
   "metadata": {},
   "outputs": [
    {
     "name": "stdout",
     "output_type": "stream",
     "text": [
      "Set 1: {1, 2, 3, 4, 5}\n",
      "Set 2: {3, 4, 5, 6, 7}\n"
     ]
    }
   ],
   "source": [
    "#   Sets: Unordered collections of unique elements.\n",
    "# Creating sets\n",
    "set1 = {1, 2, 3, 4, 5}\n",
    "set2 = {3, 4, 5, 6, 7}\n",
    "print(\"Set 1:\", set1)\n",
    "print(\"Set 2:\", set2)"
   ]
  },
  {
   "cell_type": "code",
   "execution_count": 182,
   "metadata": {},
   "outputs": [
    {
     "data": {
      "text/plain": [
       "True"
      ]
     },
     "execution_count": 182,
     "metadata": {},
     "output_type": "execute_result"
    }
   ],
   "source": [
    "# Testing membership in sets\n",
    "2 in set1"
   ]
  },
  {
   "cell_type": "code",
   "execution_count": 183,
   "metadata": {},
   "outputs": [
    {
     "name": "stdout",
     "output_type": "stream",
     "text": [
      "1\n",
      "2\n",
      "3\n",
      "4\n",
      "5\n"
     ]
    }
   ],
   "source": [
    "# Iterating over a set\n",
    "for element in set1:\n",
    "    print(element)"
   ]
  },
  {
   "cell_type": "code",
   "execution_count": 184,
   "metadata": {},
   "outputs": [
    {
     "name": "stdout",
     "output_type": "stream",
     "text": [
      "Union of Set 1 and Set 2: {1, 2, 3, 4, 5, 6, 7}\n"
     ]
    }
   ],
   "source": [
    "# Union of sets\n",
    "union_set = set1.union(set2)\n",
    "print(\"Union of Set 1 and Set 2:\", union_set)"
   ]
  },
  {
   "cell_type": "code",
   "execution_count": 185,
   "metadata": {},
   "outputs": [
    {
     "name": "stdout",
     "output_type": "stream",
     "text": [
      "Intersection of Set 1 and Set 2: {3, 4, 5}\n"
     ]
    }
   ],
   "source": [
    "# Intersection of sets\n",
    "intersection_set = set1.intersection(set2)\n",
    "print(\"Intersection of Set 1 and Set 2:\", intersection_set)"
   ]
  },
  {
   "cell_type": "code",
   "execution_count": 186,
   "metadata": {},
   "outputs": [
    {
     "name": "stdout",
     "output_type": "stream",
     "text": [
      "Set 1 after adding element 6: {1, 2, 3, 4, 5, 6}\n"
     ]
    }
   ],
   "source": [
    "# Adding an element to a set\n",
    "set1.add(6)\n",
    "print(\"Set 1 after adding element 6:\", set1)"
   ]
  },
  {
   "cell_type": "code",
   "execution_count": 187,
   "metadata": {},
   "outputs": [
    {
     "name": "stdout",
     "output_type": "stream",
     "text": [
      "Set 1 after removing element 3: {1, 2, 4, 5, 6}\n"
     ]
    }
   ],
   "source": [
    "# Removing an element from a set\n",
    "set1.remove(3)\n",
    "print(\"Set 1 after removing element 3:\", set1)"
   ]
  },
  {
   "cell_type": "code",
   "execution_count": 188,
   "metadata": {},
   "outputs": [
    {
     "name": "stdout",
     "output_type": "stream",
     "text": [
      "Set 1 after clearing: set()\n"
     ]
    }
   ],
   "source": [
    "# Clearing a set\n",
    "set1.clear()\n",
    "print(\"Set 1 after clearing:\", set1)"
   ]
  }
 ],
 "metadata": {
  "kernelspec": {
   "display_name": "Python 3",
   "language": "python",
   "name": "python3"
  },
  "language_info": {
   "codemirror_mode": {
    "name": "ipython",
    "version": 3
   },
   "file_extension": ".py",
   "mimetype": "text/x-python",
   "name": "python",
   "nbconvert_exporter": "python",
   "pygments_lexer": "ipython3",
   "version": "3.11.5"
  }
 },
 "nbformat": 4,
 "nbformat_minor": 2
}
