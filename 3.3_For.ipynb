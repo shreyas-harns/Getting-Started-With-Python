{
 "cells": [
  {
   "cell_type": "code",
   "execution_count": 1,
   "metadata": {},
   "outputs": [
    {
     "name": "stdout",
     "output_type": "stream",
     "text": [
      "The square of 1 is: 1\n",
      "The square of 2 is: 4\n",
      "The square of 3 is: 9\n",
      "The square of 4 is: 16\n",
      "The square of 5 is: 25\n",
      "Loop finished!\n"
     ]
    }
   ],
   "source": [
    "# Assume you have a list of items\n",
    "items = [1, 2, 3, 4, 5]\n",
    "\n",
    "# Loop through each item\n",
    "for item in items:\n",
    "    # Do something with the item (you can replace this with your own logic)\n",
    "    squared_item = item ** 2\n",
    "    \n",
    "    # Print the squared item for each iteration\n",
    "    print(f\"The square of {item} is: {squared_item}\")\n",
    "\n",
    "# Print a statement at the end of the loop\n",
    "print(\"Loop finished!\")"
   ]
  },
  {
   "cell_type": "markdown",
   "metadata": {},
   "source": [
    "This example uses a list of numbers, squares each number in the loop, and prints the squared result. Finally, it prints a statement indicating that the loop has finished."
   ]
  },
  {
   "cell_type": "code",
   "execution_count": 2,
   "metadata": {},
   "outputs": [
    {
     "name": "stdout",
     "output_type": "stream",
     "text": [
      "key:  name\n",
      "key:  age\n"
     ]
    }
   ],
   "source": [
    "# Iterating over a dictionary for keys\n",
    "details={'name':'Shreyas','age':22}\n",
    "for key in details:\n",
    "    print('key: ',key)"
   ]
  },
  {
   "cell_type": "code",
   "execution_count": 3,
   "metadata": {},
   "outputs": [
    {
     "name": "stdout",
     "output_type": "stream",
     "text": [
      "value:  Shreyas\n",
      "value:  22\n"
     ]
    }
   ],
   "source": [
    "# Iterating over a dictionary for values\n",
    "for value in details.values():\n",
    "    print('value: ',value)"
   ]
  },
  {
   "cell_type": "code",
   "execution_count": 4,
   "metadata": {},
   "outputs": [
    {
     "name": "stdout",
     "output_type": "stream",
     "text": [
      "name Shreyas\n",
      "age 22\n"
     ]
    }
   ],
   "source": [
    "# Iterate Over Key-Value Pairs:\n",
    "for key, value in details.items():\n",
    "    print(key, value)"
   ]
  },
  {
   "cell_type": "markdown",
   "metadata": {},
   "source": [
    "In the items() method, each iteration returns a tuple containing a key-value pair, which can be unpacked into separate variables (key and value in the example)."
   ]
  },
  {
   "cell_type": "code",
   "execution_count": 5,
   "metadata": {},
   "outputs": [
    {
     "name": "stdout",
     "output_type": "stream",
     "text": [
      "1\n",
      "2\n",
      "3\n",
      "4\n",
      "5\n"
     ]
    }
   ],
   "source": [
    "# Iterating over tuples\n",
    "numbers = (1,2,3,4,5)\n",
    "for n in numbers:\n",
    "    print(n)"
   ]
  }
 ],
 "metadata": {
  "kernelspec": {
   "display_name": "Python 3",
   "language": "python",
   "name": "python3"
  },
  "language_info": {
   "codemirror_mode": {
    "name": "ipython",
    "version": 3
   },
   "file_extension": ".py",
   "mimetype": "text/x-python",
   "name": "python",
   "nbconvert_exporter": "python",
   "pygments_lexer": "ipython3",
   "version": "3.11.6"
  }
 },
 "nbformat": 4,
 "nbformat_minor": 2
}
