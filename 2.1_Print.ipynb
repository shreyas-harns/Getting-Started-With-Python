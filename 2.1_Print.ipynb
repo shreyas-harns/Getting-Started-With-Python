{
 "cells": [
  {
   "cell_type": "markdown",
   "metadata": {},
   "source": [
    "In Python, the print() function is used to output text or variables to the console. Here are a few examples of how you can use the print() statement:"
   ]
  },
  {
   "cell_type": "code",
   "execution_count": 31,
   "metadata": {},
   "outputs": [
    {
     "name": "stdout",
     "output_type": "stream",
     "text": [
      "Hello World\n"
     ]
    }
   ],
   "source": [
    "#   Printing Text\n",
    "print('Hello World')"
   ]
  },
  {
   "cell_type": "code",
   "execution_count": 32,
   "metadata": {},
   "outputs": [
    {
     "name": "stdout",
     "output_type": "stream",
     "text": [
      "Name: John Age: 25\n"
     ]
    }
   ],
   "source": [
    "#   Printing Variables\n",
    "name = \"John\"\n",
    "age = 25\n",
    "print(\"Name:\", name, \"Age:\", age)"
   ]
  },
  {
   "cell_type": "code",
   "execution_count": 3,
   "metadata": {},
   "outputs": [
    {
     "name": "stdout",
     "output_type": "stream",
     "text": [
      "This is a line with no newline.\n"
     ]
    }
   ],
   "source": [
    "#   End Parameter\n",
    "print(\"This is a line\", end=\" \")\n",
    "print(\"with no newline.\")"
   ]
  },
  {
   "cell_type": "code",
   "execution_count": 5,
   "metadata": {},
   "outputs": [
    {
     "name": "stdout",
     "output_type": "stream",
     "text": [
      "Name: John, Age: 25, Height: 5.9\n",
      "Name: John, Age: 25, Height: 5.9\n",
      "Name: John, Age: 25, Height: 5.9\n"
     ]
    }
   ],
   "source": [
    "#   Basic Output Formatting\n",
    "name = \"John\"\n",
    "age = 25\n",
    "height = 5.9\n",
    "\n",
    "# Using print with concatenation\n",
    "print(\"Name: \" + name + \", Age: \" + str(age) + \", Height: \" + str(height))\n",
    "\n",
    "# Using print with formatted string\n",
    "print(\"Name: {}, Age: {}, Height: {}\".format(name, age, height))\n",
    "\n",
    "# Using f-string (formatted string literals, available in Python 3.6 and later)\n",
    "print(f\"Name: {name}, Age: {age}, Height: {height}\")"
   ]
  },
  {
   "cell_type": "code",
   "execution_count": 35,
   "metadata": {},
   "outputs": [
    {
     "name": "stdout",
     "output_type": "stream",
     "text": [
      "Formatted Price: 24.57\n",
      "Formatted Price: 24.57\n"
     ]
    }
   ],
   "source": [
    "#   Numeric Formatting\n",
    "price = 24.56789\n",
    "\n",
    "# Formatting with fixed precision\n",
    "formatted_price = \"{:.2f}\".format(price)\n",
    "print(\"Formatted Price:\", formatted_price)\n",
    "\n",
    "# Using f-string with fixed precision\n",
    "print(f\"Formatted Price: {price:.2f}\")"
   ]
  }
 ],
 "metadata": {
  "kernelspec": {
   "display_name": "Python 3",
   "language": "python",
   "name": "python3"
  },
  "language_info": {
   "codemirror_mode": {
    "name": "ipython",
    "version": 3
   },
   "file_extension": ".py",
   "mimetype": "text/x-python",
   "name": "python",
   "nbconvert_exporter": "python",
   "pygments_lexer": "ipython3",
   "version": "3.11.5"
  }
 },
 "nbformat": 4,
 "nbformat_minor": 2
}
