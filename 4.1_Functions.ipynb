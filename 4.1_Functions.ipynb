{
 "cells": [
  {
   "cell_type": "markdown",
   "metadata": {},
   "source": [
    "A simple function greet is defined and called."
   ]
  },
  {
   "cell_type": "code",
   "execution_count": 143,
   "metadata": {},
   "outputs": [
    {
     "name": "stdout",
     "output_type": "stream",
     "text": [
      "Hello! Welcome to the function.\n"
     ]
    }
   ],
   "source": [
    "# Function definition without parameters\n",
    "def greet():\n",
    "    print(\"Hello! Welcome to the function.\")\n",
    "\n",
    "# Calling the function\n",
    "greet()"
   ]
  },
  {
   "cell_type": "markdown",
   "metadata": {},
   "source": [
    "Another function add_numbers takes two parameters, adds them, and prints the result."
   ]
  },
  {
   "cell_type": "code",
   "execution_count": 144,
   "metadata": {},
   "outputs": [
    {
     "name": "stdout",
     "output_type": "stream",
     "text": [
      "The sum of 3 and 5 is: 8\n"
     ]
    }
   ],
   "source": [
    "# Function with parameters\n",
    "def add_numbers(a, b):\n",
    "    result = a + b\n",
    "    print(f\"The sum of {a} and {b} is: {result}\")\n",
    "\n",
    "# Calling the function with arguments\n",
    "add_numbers(3, 5)"
   ]
  },
  {
   "cell_type": "markdown",
   "metadata": {},
   "source": [
    "The greet_person function has a default parameter and is called with and without an argument."
   ]
  },
  {
   "cell_type": "code",
   "execution_count": 145,
   "metadata": {},
   "outputs": [
    {
     "name": "stdout",
     "output_type": "stream",
     "text": [
      "Hello, Guest!\n",
      "Hello, Alice!\n"
     ]
    }
   ],
   "source": [
    "# Function with a default parameter\n",
    "def greet_person(name=\"Guest\"):\n",
    "    print(f\"Hello, {name}!\")\n",
    "\n",
    "# Calling the function with and without an argument\n",
    "greet_person()\n",
    "greet_person(\"Alice\")"
   ]
  },
  {
   "cell_type": "markdown",
   "metadata": {},
   "source": [
    "The square_number function returns a value, and the result is printed."
   ]
  },
  {
   "cell_type": "code",
   "execution_count": 146,
   "metadata": {},
   "outputs": [
    {
     "name": "stdout",
     "output_type": "stream",
     "text": [
      "The square of 4 is: 16\n"
     ]
    }
   ],
   "source": [
    "# Function with a return statement\n",
    "def square_number(x):\n",
    "    return x ** 2\n",
    "\n",
    "# Using the function and printing the result\n",
    "result = square_number(4)\n",
    "print(f\"The square of 4 is: {result}\")"
   ]
  },
  {
   "cell_type": "markdown",
   "metadata": {},
   "source": [
    "The rectangle_info function returns multiple values (area and perimeter), and the results are printed."
   ]
  },
  {
   "cell_type": "code",
   "execution_count": 147,
   "metadata": {},
   "outputs": [
    {
     "name": "stdout",
     "output_type": "stream",
     "text": [
      "Area: 15, Perimeter: 16\n"
     ]
    }
   ],
   "source": [
    "# Function with multiple return values\n",
    "def rectangle_info(length, width):\n",
    "    area = length * width\n",
    "    perimeter = 2 * (length + width)\n",
    "    return area, perimeter\n",
    "\n",
    "# Using the function and printing the results\n",
    "area_result, perimeter_result = rectangle_info(5, 3)\n",
    "print(f\"Area: {area_result}, Perimeter: {perimeter_result}\")"
   ]
  },
  {
   "cell_type": "markdown",
   "metadata": {},
   "source": [
    "Scope of a function"
   ]
  },
  {
   "cell_type": "markdown",
   "metadata": {},
   "source": [
    "There's a global variable global_var defined outside the function.\n",
    "The function my_function has a local variable local_var. Inside the function, both local and global variables are printed."
   ]
  },
  {
   "cell_type": "code",
   "execution_count": 148,
   "metadata": {},
   "outputs": [
    {
     "name": "stdout",
     "output_type": "stream",
     "text": [
      "Inside the function:\n",
      "Local variable: I am local!\n",
      "Global variable: I am global!\n"
     ]
    }
   ],
   "source": [
    "# Global variable\n",
    "global_var = \"I am global!\"\n",
    "\n",
    "# Function with a local variable\n",
    "def my_function():\n",
    "    local_var = \"I am local!\"\n",
    "    print(\"Inside the function:\")\n",
    "    print(f\"Local variable: {local_var}\")\n",
    "    print(f\"Global variable: {global_var}\")\n",
    "\n",
    "# Call the function\n",
    "my_function()"
   ]
  },
  {
   "cell_type": "markdown",
   "metadata": {},
   "source": [
    "Attempting to access the local variable outside the function will result in a NameError."
   ]
  },
  {
   "cell_type": "code",
   "execution_count": 149,
   "metadata": {},
   "outputs": [
    {
     "name": "stdout",
     "output_type": "stream",
     "text": [
      "Outside the function:\n",
      "Error: name 'local_var' is not defined\n"
     ]
    }
   ],
   "source": [
    "# Attempting to access the local variable outside the function will result in an error\n",
    "try:\n",
    "    print(\"Outside the function:\")\n",
    "    print(f\"Local variable: {local_var}\")\n",
    "except NameError as e:\n",
    "    print(f\"Error: {e}\")"
   ]
  },
  {
   "cell_type": "markdown",
   "metadata": {},
   "source": [
    "The function use_global_inside_function uses the global keyword to modify the value of the global variable global_var."
   ]
  },
  {
   "cell_type": "code",
   "execution_count": 150,
   "metadata": {},
   "outputs": [
    {
     "name": "stdout",
     "output_type": "stream",
     "text": [
      "Inside the function:\n",
      "Global variable: I am global!\n"
     ]
    }
   ],
   "source": [
    "# Global variable\n",
    "global_var = \"I am global!\"\n",
    "\n",
    "# Using a global variable inside a function\n",
    "def use_global_inside_function():\n",
    "    global global_var\n",
    "    print(\"Inside the function:\")\n",
    "    print(f\"Global variable: {global_var}\")\n",
    "    global_var = \"I am modified inside the function!\"\n",
    "\n",
    "# Call the function\n",
    "use_global_inside_function()"
   ]
  },
  {
   "cell_type": "markdown",
   "metadata": {},
   "source": [
    "The modified global variable is printed outside the function."
   ]
  },
  {
   "cell_type": "code",
   "execution_count": 151,
   "metadata": {},
   "outputs": [
    {
     "name": "stdout",
     "output_type": "stream",
     "text": [
      "Outside the function:\n",
      "Modified Global variable: I am modified inside the function!\n"
     ]
    }
   ],
   "source": [
    "# Print the modified global variable outside the function\n",
    "print(\"Outside the function:\")\n",
    "print(f\"Modified Global variable: {global_var}\")"
   ]
  },
  {
   "cell_type": "markdown",
   "metadata": {},
   "source": [
    "Lambda Function\n",
    "A simple lambda function square is defined and used to calculate the square of a number."
   ]
  },
  {
   "cell_type": "code",
   "execution_count": 152,
   "metadata": {},
   "outputs": [
    {
     "name": "stdout",
     "output_type": "stream",
     "text": [
      "Square of 5 using lambda function: 25\n"
     ]
    }
   ],
   "source": [
    "# Example of a lambda function\n",
    "square = lambda x: x**2\n",
    "print(f\"Square of 5 using lambda function: {square(5)}\")"
   ]
  },
  {
   "cell_type": "markdown",
   "metadata": {},
   "source": [
    "The map function is used with a lambda function to square each element in a list (numbers)."
   ]
  },
  {
   "cell_type": "code",
   "execution_count": 153,
   "metadata": {},
   "outputs": [
    {
     "name": "stdout",
     "output_type": "stream",
     "text": [
      "Original list: [1, 2, 3, 4, 5]\n",
      "Squared list using map and lambda: [1, 4, 9, 16, 25]\n"
     ]
    }
   ],
   "source": [
    "# Using map with a lambda function to square each element in a list\n",
    "numbers = [1, 2, 3, 4, 5]\n",
    "squared_numbers = list(map(lambda x: x**2, numbers))\n",
    "print(f\"Original list: {numbers}\")\n",
    "print(f\"Squared list using map and lambda: {squared_numbers}\")\n"
   ]
  },
  {
   "cell_type": "markdown",
   "metadata": {},
   "source": [
    "Another example uses the map function with a lambda function to double each element in the list.\n",
    "The syntax of a map function is map(function, iterable, ...)"
   ]
  },
  {
   "cell_type": "code",
   "execution_count": 154,
   "metadata": {},
   "outputs": [
    {
     "name": "stdout",
     "output_type": "stream",
     "text": [
      "Doubled list using map and lambda: [2, 4, 6, 8, 10]\n"
     ]
    }
   ],
   "source": [
    "# Another example using map with a lambda function to double each element in a list\n",
    "doubled_numbers = list(map(lambda x: x * 2, numbers))\n",
    "print(f\"Doubled list using map and lambda: {doubled_numbers}\")"
   ]
  },
  {
   "cell_type": "markdown",
   "metadata": {},
   "source": [
    "Finally, the map function is used with a lambda function on two lists (list1 and list2) to calculate the sum of corresponding elements."
   ]
  },
  {
   "cell_type": "code",
   "execution_count": 155,
   "metadata": {},
   "outputs": [
    {
     "name": "stdout",
     "output_type": "stream",
     "text": [
      "List 1: [1, 2, 3]\n",
      "List 2: [4, 5, 6]\n",
      "Sum of corresponding elements using map and lambda: [5, 7, 9]\n"
     ]
    }
   ],
   "source": [
    "# Using map with a lambda function on multiple iterables\n",
    "list1 = [1, 2, 3]\n",
    "list2 = [4, 5, 6]\n",
    "sum_lists = list(map(lambda x, y: x + y, list1, list2))\n",
    "print(f\"List 1: {list1}\")\n",
    "print(f\"List 2: {list2}\")\n",
    "print(f\"Sum of corresponding elements using map and lambda: {sum_lists}\")"
   ]
  },
  {
   "cell_type": "code",
   "execution_count": 156,
   "metadata": {},
   "outputs": [
    {
     "name": "stdout",
     "output_type": "stream",
     "text": [
      "{1, 4, 9, 16, 25}\n"
     ]
    }
   ],
   "source": [
    "numbers=(1,2,3,4,5)\n",
    "square=lambda x:x**2\n",
    "squared = set(map(square, numbers))\n",
    "print(squared)"
   ]
  }
 ],
 "metadata": {
  "kernelspec": {
   "display_name": "Python 3",
   "language": "python",
   "name": "python3"
  },
  "language_info": {
   "codemirror_mode": {
    "name": "ipython",
    "version": 3
   },
   "file_extension": ".py",
   "mimetype": "text/x-python",
   "name": "python",
   "nbconvert_exporter": "python",
   "pygments_lexer": "ipython3",
   "version": "3.11.5"
  }
 },
 "nbformat": 4,
 "nbformat_minor": 2
}
