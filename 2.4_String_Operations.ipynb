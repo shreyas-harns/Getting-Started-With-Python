{
 "cells": [
  {
   "cell_type": "code",
   "execution_count": 13,
   "metadata": {},
   "outputs": [
    {
     "name": "stdout",
     "output_type": "stream",
     "text": [
      "Concatenation Result: Hello World\n"
     ]
    }
   ],
   "source": [
    "#   Concatenation\n",
    "str1 = \"Hello\"\n",
    "str2 = \"World\"\n",
    "result_concatenation = str1 + \" \" + str2\n",
    "print(f\"Concatenation Result: {result_concatenation}\")"
   ]
  },
  {
   "cell_type": "code",
   "execution_count": 14,
   "metadata": {},
   "outputs": [
    {
     "name": "stdout",
     "output_type": "stream",
     "text": [
      "String Length: 6\n"
     ]
    }
   ],
   "source": [
    "#   String Length\n",
    "text = \"Python\"\n",
    "length = len(text)\n",
    "print(f\"String Length: {length}\")"
   ]
  },
  {
   "cell_type": "code",
   "execution_count": 15,
   "metadata": {},
   "outputs": [
    {
     "name": "stdout",
     "output_type": "stream",
     "text": [
      "First Character: P, Last Character: n\n"
     ]
    }
   ],
   "source": [
    "#   Accessing Characters\n",
    "first_char = text[0]\n",
    "last_char = text[-1]\n",
    "print(f\"First Character: {first_char}, Last Character: {last_char}\")"
   ]
  },
  {
   "cell_type": "code",
   "execution_count": 16,
   "metadata": {},
   "outputs": [
    {
     "name": "stdout",
     "output_type": "stream",
     "text": [
      "Sliced Substring: yth\n"
     ]
    }
   ],
   "source": [
    "#   Slicing\n",
    "substring = text[1:4]\n",
    "print(f\"Sliced Substring: {substring}\")"
   ]
  },
  {
   "cell_type": "code",
   "execution_count": 17,
   "metadata": {},
   "outputs": [
    {
     "name": "stdout",
     "output_type": "stream",
     "text": [
      "Formatted Text: My name is Alice and I am 30 years old.\n"
     ]
    }
   ],
   "source": [
    "#   String Formatting\n",
    "name = \"Alice\"\n",
    "age = 30\n",
    "formatted_text = f\"My name is {name} and I am {age} years old.\"\n",
    "print(f\"Formatted Text: {formatted_text}\")"
   ]
  },
  {
   "cell_type": "code",
   "execution_count": 18,
   "metadata": {},
   "outputs": [
    {
     "name": "stdout",
     "output_type": "stream",
     "text": [
      "Uppercase Text: PYTHON, Lowercase Text: python\n"
     ]
    }
   ],
   "source": [
    "#   String Methods\n",
    "#   Upper and Lower Case\n",
    "uppercase_text = text.upper()\n",
    "lowercase_text = text.lower()\n",
    "print(f\"Uppercase Text: {uppercase_text}, Lowercase Text: {lowercase_text}\")"
   ]
  },
  {
   "cell_type": "code",
   "execution_count": 19,
   "metadata": {},
   "outputs": [
    {
     "name": "stdout",
     "output_type": "stream",
     "text": [
      "Replace Result: Java\n"
     ]
    }
   ],
   "source": [
    "#   Replace\n",
    "new_text = text.replace(\"Python\", \"Java\")\n",
    "print(f\"Replace Result: {new_text}\")"
   ]
  },
  {
   "cell_type": "code",
   "execution_count": 20,
   "metadata": {},
   "outputs": [
    {
     "name": "stdout",
     "output_type": "stream",
     "text": [
      "Split Result: ['This', 'is', 'a', 'sample', 'sentence.']\n"
     ]
    }
   ],
   "source": [
    "#   Split\n",
    "sentence = \"This is a sample sentence.\"\n",
    "words = sentence.split()\n",
    "print(f\"Split Result: {words}\")"
   ]
  },
  {
   "cell_type": "code",
   "execution_count": 21,
   "metadata": {},
   "outputs": [
    {
     "name": "stdout",
     "output_type": "stream",
     "text": [
      "Join Result: This is a sample sentence.\n"
     ]
    }
   ],
   "source": [
    "#   Join\n",
    "joined_sentence = ' '.join(words)\n",
    "print(f\"Join Result: {joined_sentence}\")\n"
   ]
  },
  {
   "cell_type": "code",
   "execution_count": 22,
   "metadata": {},
   "outputs": [
    {
     "name": "stdout",
     "output_type": "stream",
     "text": [
      "Starts with 'Hello': False, Ends with 'World': False\n"
     ]
    }
   ],
   "source": [
    "#   Checking Substrings\n",
    "#   Checking if a string starts or ends with a specific substring\n",
    "starts_with_hello = text.startswith(\"Hello\")\n",
    "ends_with_world = text.endswith(\"World\")\n",
    "print(f\"Starts with 'Hello': {starts_with_hello}, Ends with 'World': {ends_with_world}\")"
   ]
  },
  {
   "cell_type": "code",
   "execution_count": 23,
   "metadata": {},
   "outputs": [
    {
     "name": "stdout",
     "output_type": "stream",
     "text": [
      "Index of 'th': 2\n"
     ]
    }
   ],
   "source": [
    "#   Finding Substrings\n",
    "index = text.find(\"th\")\n",
    "print(f\"Index of 'th': {index}\")"
   ]
  }
 ],
 "metadata": {
  "kernelspec": {
   "display_name": "Python 3",
   "language": "python",
   "name": "python3"
  },
  "language_info": {
   "codemirror_mode": {
    "name": "ipython",
    "version": 3
   },
   "file_extension": ".py",
   "mimetype": "text/x-python",
   "name": "python",
   "nbconvert_exporter": "python",
   "pygments_lexer": "ipython3",
   "version": "3.11.5"
  }
 },
 "nbformat": 4,
 "nbformat_minor": 2
}
