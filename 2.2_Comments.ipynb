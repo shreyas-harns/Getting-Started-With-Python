{
 "cells": [
  {
   "cell_type": "markdown",
   "metadata": {},
   "source": [
    "1. Single-line comments:\n",
    "Single-line comments start with the # symbol and extend to the end of the line. Here's an example:"
   ]
  },
  {
   "cell_type": "code",
   "execution_count": 1,
   "metadata": {},
   "outputs": [
    {
     "name": "stdout",
     "output_type": "stream",
     "text": [
      "Hello, World!\n"
     ]
    }
   ],
   "source": [
    "# This is a single-line comment\n",
    "print(\"Hello, World!\")  # This is another single-line comment\n"
   ]
  },
  {
   "cell_type": "markdown",
   "metadata": {},
   "source": [
    "2. Multi-line comments (Docstrings):\n",
    "For multi-line comments, you can use triple-quotes (''' or \"\"\"). While not true multi-line comments, these are often used as a workaround to achieve a similar effect. When used at the beginning of a module, class, or function, triple-quotes are called docstrings and are used to provide documentation."
   ]
  },
  {
   "cell_type": "code",
   "execution_count": 2,
   "metadata": {},
   "outputs": [
    {
     "name": "stdout",
     "output_type": "stream",
     "text": [
      "Hello from the function!\n"
     ]
    }
   ],
   "source": [
    "'''\n",
    "This is a multi-line comment or docstring.\n",
    "It spans multiple lines.\n",
    "'''\n",
    "\n",
    "\"\"\"\n",
    "This is another way to create a multi-line comment or docstring.\n",
    "\"\"\"\n",
    "\n",
    "def my_function():\n",
    "    \"\"\"\n",
    "    This is a docstring for the function.\n",
    "    It provides information about the function's purpose and usage.\n",
    "    \"\"\"\n",
    "    print(\"Hello from the function!\")\n",
    "\n",
    "\n",
    "my_function()"
   ]
  }
 ],
 "metadata": {
  "kernelspec": {
   "display_name": "Python 3",
   "language": "python",
   "name": "python3"
  },
  "language_info": {
   "codemirror_mode": {
    "name": "ipython",
    "version": 3
   },
   "file_extension": ".py",
   "mimetype": "text/x-python",
   "name": "python",
   "nbconvert_exporter": "python",
   "pygments_lexer": "ipython3",
   "version": "3.11.6"
  }
 },
 "nbformat": 4,
 "nbformat_minor": 2
}
